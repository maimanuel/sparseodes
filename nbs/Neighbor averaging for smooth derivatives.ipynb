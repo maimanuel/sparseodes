{
 "cells": [
  {
   "cell_type": "code",
   "execution_count": null,
   "metadata": {},
   "outputs": [
    {
     "name": "stdout",
     "output_type": "stream",
     "text": [
      "Populating the interactive namespace from numpy and matplotlib\n"
     ]
    }
   ],
   "source": [
    "import numpy as np\n",
    "import pylab as plb\n",
    "%pylab inline"
   ]
  },
  {
   "cell_type": "markdown",
   "metadata": {},
   "source": [
    "# 1D test"
   ]
  },
  {
   "cell_type": "markdown",
   "metadata": {},
   "source": [
    "idea: take a list of points with initial position (height can vary, x-position is fixed) (and initial derivative?)\n",
    "then iterate and determine new position from average of left derivative and right derivative"
   ]
  },
  {
   "cell_type": "code",
   "execution_count": null,
   "metadata": {},
   "outputs": [
    {
     "ename": "NameError",
     "evalue": "name 'ypos' is not defined",
     "output_type": "error",
     "traceback": [
      "\u001b[0;31m---------------------------------------------------------------------------\u001b[0m\n\u001b[0;31mNameError\u001b[0m                                 Traceback (most recent call last)",
      "\u001b[0;32m<ipython-input-2-91cd9ecddbc0>\u001b[0m in \u001b[0;36m<module>\u001b[0;34m()\u001b[0m\n\u001b[1;32m      6\u001b[0m \u001b[0;31m#initialize x position and y position\u001b[0m\u001b[0;34m\u001b[0m\u001b[0;34m\u001b[0m\u001b[0m\n\u001b[1;32m      7\u001b[0m \u001b[0mxpos\u001b[0m \u001b[0;34m=\u001b[0m \u001b[0mlinspace\u001b[0m\u001b[0;34m(\u001b[0m\u001b[0mxmin\u001b[0m\u001b[0;34m,\u001b[0m\u001b[0mxmax\u001b[0m\u001b[0;34m,\u001b[0m\u001b[0mnpoints\u001b[0m\u001b[0;34m)\u001b[0m \u001b[0;31m#xposition stays fixed\u001b[0m\u001b[0;34m\u001b[0m\u001b[0m\n\u001b[0;32m----> 8\u001b[0;31m \u001b[0mypos\u001b[0m\u001b[0;34m[\u001b[0m\u001b[0;36m0\u001b[0m\u001b[0;34m]\u001b[0m\u001b[0;34m=\u001b[0m\u001b[0;36m0\u001b[0m\u001b[0;34m\u001b[0m\u001b[0m\n\u001b[0m\u001b[1;32m      9\u001b[0m \u001b[0mypos\u001b[0m\u001b[0;34m[\u001b[0m\u001b[0;36m9\u001b[0m\u001b[0;34m]\u001b[0m\u001b[0;34m=\u001b[0m\u001b[0;36m0\u001b[0m\u001b[0;34m\u001b[0m\u001b[0m\n\u001b[1;32m     10\u001b[0m \u001b[0mypos\u001b[0m\u001b[0;34m[\u001b[0m\u001b[0;36m1\u001b[0m\u001b[0;34m:\u001b[0m\u001b[0;36m9\u001b[0m\u001b[0;34m]\u001b[0m \u001b[0;34m=\u001b[0m \u001b[0;34m[\u001b[0m\u001b[0;36m0\u001b[0m\u001b[0;34m,\u001b[0m\u001b[0;36m0\u001b[0m\u001b[0;34m,\u001b[0m\u001b[0;36m0\u001b[0m\u001b[0;34m,\u001b[0m\u001b[0;36m0\u001b[0m\u001b[0;34m,\u001b[0m\u001b[0;36m0\u001b[0m\u001b[0;34m,\u001b[0m\u001b[0;36m0\u001b[0m\u001b[0;34m,\u001b[0m\u001b[0;36m0\u001b[0m\u001b[0;34m,\u001b[0m\u001b[0;36m0\u001b[0m\u001b[0;34m]\u001b[0m\u001b[0;31m#np.random.rand(npoints-2)\u001b[0m\u001b[0;34m\u001b[0m\u001b[0m\n",
      "\u001b[0;31mNameError\u001b[0m: name 'ypos' is not defined"
     ]
    }
   ],
   "source": [
    "#number of points\n",
    "npoints = 10\n",
    "xmax = 0.31\n",
    "xmin = 0\n",
    "deltax = xmax/npoints\n",
    "#initialize x position and y position\n",
    "xpos = linspace(xmin,xmax,npoints) #xposition stays fixed\n",
    "ypos[0]=0\n",
    "ypos[9]=0\n",
    "ypos[1:9] = [0,0,0,0,0,0,0,0]#np.random.rand(npoints-2)\n",
    "\n",
    "fixed = [1,0,0,0,0,0,0,0,0,1]\n",
    "deriv = [-0.9,0,0,0,0,0,0,0,0,0.35]"
   ]
  },
  {
   "cell_type": "code",
   "execution_count": null,
   "metadata": {},
   "outputs": [],
   "source": [
    "scatter(xpos,ypos)\n",
    "xlim(-.01,0.32)\n",
    "ylim(-1,1)"
   ]
  },
  {
   "cell_type": "code",
   "execution_count": null,
   "metadata": {},
   "outputs": [],
   "source": [
    "#number of points\n",
    "npoints = 10\n",
    "xmax = 0.31\n",
    "xmin = 0\n",
    "deltax = xmax/npoints\n",
    "# enter points that should stay fixed in sorted order\n",
    "fixedx = [0,0.118112,0.307816,]\n",
    "deriv = [-0.9,0,0.35,-0.57]\n",
    "tempx = []\n",
    "tempder = []\n",
    "fixed = []\n",
    "for i in range(len(fixedx)-1):\n",
    "    tempx += list(linspace(fixedx[i],fixedx[i+1],num =50,endpoint = False))\n",
    "    tempder += [deriv[i]]+[0 for k in range(49)]\n",
    "    fixed += [1]+[0 for k in range(49)]\n",
    "xpos = tempx + [fixedx[-1]]\n",
    "xder = tempder + [deriv[-1]]\n",
    "fixed +=[1]"
   ]
  },
  {
   "cell_type": "code",
   "execution_count": null,
   "metadata": {},
   "outputs": [],
   "source": [
    "scatter(xpos,xder)"
   ]
  },
  {
   "cell_type": "code",
   "execution_count": null,
   "metadata": {},
   "outputs": [],
   "source": [
    "tempder = xder\n",
    "for k in range(1000):\n",
    "    for i in [l for l in range(len(xpos)) if fixed[l]==0]:\n",
    "        tempder[i] = (xder[i-1]+xder[i+1])/2\n",
    "    xder[:] = tempder[:]\n",
    "scatter(xpos,xder)"
   ]
  },
  {
   "cell_type": "markdown",
   "metadata": {},
   "source": [
    "## integrate continuous derivative"
   ]
  },
  {
   "cell_type": "code",
   "execution_count": null,
   "metadata": {},
   "outputs": [],
   "source": [
    "tempint = [(xder[i+1]+xder[i])/2*(xpos[i+1]-xpos[i]) for i in range(len(xpos)-1)]\n",
    "xint = [tempint[0]]\n",
    "for i in range(len(tempint)-1):\n",
    "    xint += [xint[i]+tempint[i+1]]\n",
    "scatter(xpos[:-1],xint)"
   ]
  },
  {
   "cell_type": "markdown",
   "metadata": {},
   "source": [
    "# compare to 1D Reynolds model"
   ]
  },
  {
   "cell_type": "code",
   "execution_count": null,
   "metadata": {},
   "outputs": [],
   "source": [
    "def fp(P):\n",
    "    return 0.6*P*(1 - P/20.0) - 0.6*0.005*P/(0.002 + 0.01*P)"
   ]
  },
  {
   "cell_type": "code",
   "execution_count": null,
   "metadata": {},
   "outputs": [],
   "source": [
    "ptest = linspace(0,19.49,500)\n",
    "fptest = [fp(p) for p in ptest]"
   ]
  },
  {
   "cell_type": "code",
   "execution_count": null,
   "metadata": {},
   "outputs": [
    {
     "ename": "NameError",
     "evalue": "name 'xint' is not defined",
     "output_type": "error",
     "traceback": [
      "\u001b[0;31m---------------------------------------------------------------------------\u001b[0m\n\u001b[0;31mNameError\u001b[0m                                 Traceback (most recent call last)",
      "\u001b[0;32m<ipython-input-8-681399fff3cb>\u001b[0m in \u001b[0;36m<module>\u001b[0;34m()\u001b[0m\n\u001b[1;32m      1\u001b[0m \u001b[0mscatter\u001b[0m\u001b[0;34m(\u001b[0m\u001b[0mptest\u001b[0m\u001b[0;34m,\u001b[0m\u001b[0mfptest\u001b[0m\u001b[0;34m,\u001b[0m\u001b[0mcolor\u001b[0m \u001b[0;34m=\u001b[0m \u001b[0;34m\"r\"\u001b[0m\u001b[0;34m)\u001b[0m\u001b[0;34m\u001b[0m\u001b[0m\n\u001b[0;32m----> 2\u001b[0;31m \u001b[0mscatter\u001b[0m\u001b[0;34m(\u001b[0m\u001b[0mxpos\u001b[0m\u001b[0;34m[\u001b[0m\u001b[0;34m:\u001b[0m\u001b[0;34m-\u001b[0m\u001b[0;36m1\u001b[0m\u001b[0;34m]\u001b[0m\u001b[0;34m,\u001b[0m\u001b[0mxint\u001b[0m\u001b[0;34m)\u001b[0m\u001b[0;34m\u001b[0m\u001b[0m\n\u001b[0m",
      "\u001b[0;31mNameError\u001b[0m: name 'xint' is not defined"
     ]
    },
    {
     "data": {
      "image/png": "[encoded data removed]",
      "text/plain": [
       "<matplotlib.figure.Figure at 0x106068250>"
      ]
     },
     "metadata": {},
     "output_type": "display_data"
    }
   ],
   "source": [
    "scatter(ptest,fptest,color = \"r\")\n",
    "scatter(xpos[:-1],xint)"
   ]
  },
  {
   "cell_type": "markdown",
   "metadata": {},
   "source": [
    "## Try averaging of function value and add derivative close to the specified points."
   ]
  },
  {
   "cell_type": "code",
   "execution_count": null,
   "metadata": {},
   "outputs": [],
   "source": [
    "#number of points\n",
    "npoints = 50\n",
    "# enter points that should stay fixed in sorted order\n",
    "fixedx = [0,0.118112,0.307816,9.99037,19.49]\n",
    "fixedy = [0,-0.0409385,0,2.70589,0]\n",
    "deriv = [-0.9,0,0.35,0,-0.57]\n",
    "\n",
    "tempx = []\n",
    "tempy = []\n",
    "tempder = []\n",
    "fixed = []\n",
    "for i in range(len(fixedx)-1):\n",
    "    tempx += list(linspace(fixedx[i],fixedx[i+1],num =npoints,endpoint = False))\n",
    "    tempy += list(linspace(fixedy[i],fixedy[i+1],num =npoints,endpoint = False))\n",
    "    tempder += [deriv[i]]+[0 for k in range(npoints-1)]\n",
    "    fixed += [1]+[0 for k in range(npoints-1)]\n",
    "xpos = tempx + [fixedx[-1]]\n",
    "ypos = tempy + [fixedy[-1]]\n",
    "xder = tempder + [deriv[-1]]\n",
    "fixed +=[1]"
   ]
  },
  {
   "cell_type": "code",
   "execution_count": null,
   "metadata": {},
   "outputs": [
    {
     "data": {
      "text/plain": [
       "<matplotlib.text.Text at 0x106aabc10>"
      ]
     },
     "execution_count": null,
     "metadata": {},
     "output_type": "execute_result"
    },
    {
     "data": {
      "image/png": "[encoded data removed]",
      "text/plain": [
       "<matplotlib.figure.Figure at 0x106918890>"
      ]
     },
     "metadata": {},
     "output_type": "display_data"
    }
   ],
   "source": [
    "scatter(xpos,ypos)\n",
    "title(\"x vs y\")"
   ]
  },
  {
   "cell_type": "code",
   "execution_count": null,
   "metadata": {},
   "outputs": [
    {
     "data": {
      "text/plain": [
       "<matplotlib.text.Text at 0x106fd38d0>"
      ]
     },
     "execution_count": null,
     "metadata": {},
     "output_type": "execute_result"
    },
    {
     "data": {
      "image/png": "[encoded data removed]",
      "text/plain": [
       "<matplotlib.figure.Figure at 0x1070c6c10>"
      ]
     },
     "metadata": {},
     "output_type": "display_data"
    }
   ],
   "source": [
    "tempy = ypos\n",
    "lam = 0.0074\n",
    "for k in range(1000):\n",
    "    for i in [l for l in range(len(ypos)) if fixed[l]==0]:\n",
    "        tempy[i] = (ypos[i-1]+ypos[i+1])/2*(1-exp(-abs(xpos[i] - 0.307816)/lam)- exp(-abs(xpos[i] - 0.118112)/lam)\\\n",
    "                                            -exp(-abs(xpos[i] - 0)/lam)-exp(-abs(xpos[i] - 9.99037)/0.5)\n",
    "                                            -exp(-abs(xpos[i] - 19.49)/0.5))\\\n",
    "        +(0 - 0.9*(xpos[i] - 0))*exp(-abs(xpos[i] - 0)/lam)\\\n",
    "        + (-0.0409385 + 0*(xpos[i] - 0.118112))*exp(-abs(xpos[i] - 0.118112)/lam)\\\n",
    "        + (-0 + 0.35*(xpos[i] - 0.307816))*exp(-abs(xpos[i] - 0.307816)/lam)\\\n",
    "        + (2.70589 + 0*(xpos[i] - 9.99037))*exp(-abs(xpos[i] - 9.99037)/0.5)\\\n",
    "        + (0 + -0.57*(xpos[i] - 19.49))*exp(-abs(xpos[i] - 19.49)/0.5)\n",
    "    ypos[:] = tempy[:]\n",
    "    \n",
    "scatter(ptest,fptest,color = \"r\") \n",
    "scatter(xpos,ypos)       \n",
    "title(\"x vs y\")    "
   ]
  },
  {
   "cell_type": "code",
   "execution_count": null,
   "metadata": {},
   "outputs": [
    {
     "data": {
      "text/plain": [
       "(-0.05, 0.5)"
      ]
     },
     "execution_count": null,
     "metadata": {},
     "output_type": "execute_result"
    },
    {
     "data": {
      "image/png": "[encoded data removed]",
      "text/plain": [
       "<matplotlib.figure.Figure at 0x1060ee910>"
      ]
     },
     "metadata": {},
     "output_type": "display_data"
    }
   ],
   "source": [
    "scatter(xpos,ypos)    \n",
    "scatter(ptest,fptest,color = \"r\")    \n",
    "title(\"x vs y\")    \n",
    "xlim(0,1.2)\n",
    "ylim(-0.05,0.5)"
   ]
  },
  {
   "cell_type": "code",
   "execution_count": null,
   "metadata": {},
   "outputs": [
    {
     "data": {
      "text/plain": [
       "[0.0,\n",
       " -0.0021256150064866272,\n",
       " -0.0042490934949433058,\n",
       " -0.0063659846058425557,\n",
       " -0.0084678336589406929,\n",
       " -0.010541634800552492,\n",
       " -0.012570439676739148,\n",
       " -0.014535066315711106,\n",
       " -0.016416439901712092,\n",
       " -0.018197929709929981,\n",
       " -0.019867142923060414,\n",
       " -0.021416887619150962,\n",
       " -0.022845286126188174,\n",
       " -0.024155212014098988,\n",
       " -0.025353309192287257,\n",
       " -0.026448847278194167,\n",
       " -0.027452610631019905,\n",
       " -0.028375944508386954,\n",
       " -0.029230014362972543,\n",
       " -0.030025284393656058,\n",
       " -0.030771190919871884,\n",
       " -0.031475971780715407,\n",
       " -0.032146609898524886,\n",
       " -0.032788852768645814,\n",
       " -0.033407276407066332,\n",
       " -0.034005369895732107,\n",
       " -0.034585623835071834,\n",
       " -0.035149612208571455,\n",
       " -0.035698062315049912,\n",
       " -0.036230911712139921,\n",
       " -0.036747354818560056,\n",
       " -0.037245885208392247,\n",
       " -0.037724342857439787,\n",
       " -0.038179978632821972,\n",
       " -0.038609550818800867,\n",
       " -0.039009469714754393,\n",
       " -0.039376005137675731,\n",
       " -0.039705566422870653,\n",
       " -0.039995053553943505,\n",
       " -0.040242260271244779,\n",
       " -0.04044628607329237,\n",
       " -0.040607887859348941,\n",
       " -0.040729681931390378,\n",
       " -0.040816105639777521,\n",
       " -0.040873078156395827,\n",
       " -0.040907367752473181,\n",
       " -0.040925767840782765,\n",
       " -0.04093427259546166,\n",
       " -0.040937476561841081,\n",
       " -0.040938363060661953,\n",
       " -0.040938500000000003,\n",
       " -0.04092743746815982,\n",
       " -0.040883356071564646,\n",
       " -0.040777615971677783,\n",
       " -0.040583877293182496,\n",
       " -0.040285460351756425,\n",
       " -0.039878055228087544,\n",
       " -0.039368095892245485,\n",
       " -0.038768918355561031,\n",
       " -0.038096759706582516,\n",
       " -0.0373677416467054,\n",
       " -0.036596111868952841,\n",
       " -0.035793527261502367,\n",
       " -0.034969014568505562,\n",
       " -0.034129283280730859,\n",
       " -0.033279166381578712,\n",
       " -0.032422060666235215,\n",
       " -0.031560307236400097,\n",
       " -0.030695494201375711,\n",
       " -0.029828684830298324,\n",
       " -0.028960583072740249,\n",
       " -0.028091650249805762,\n",
       " -0.027222185455838259,\n",
       " -0.026352379837040394,\n",
       " -0.025482352431861692,\n",
       " -0.024612173081581437,\n",
       " -0.023741876153053013,\n",
       " -0.022871467420596446,\n",
       " -0.022000925335139709,\n",
       " -0.021130196954727998,\n",
       " -0.020259187911918566,\n",
       " -0.019387744850514727,\n",
       " -0.018515627695383115,\n",
       " -0.017642467882148561,\n",
       " -0.016767707307889703,\n",
       " -0.015890511475822915,\n",
       " -0.015009649617223923,\n",
       " -0.014123335548016858,\n",
       " -0.013229027567282951,\n",
       " -0.012323196854988944,\n",
       " -0.011401095611482054,\n",
       " -0.010456592411289952,\n",
       " -0.0094821927893770086,\n",
       " -0.0084694161354687582,\n",
       " -0.0074097205797167146,\n",
       " -0.0062960895529614556,\n",
       " -0.0051251363338768096,\n",
       " -0.0038991251427010478,\n",
       " -0.002626826946911593,\n",
       " -0.0013220953154966407,\n",
       " 0.0,\n",
       " 0.067112236432688918,\n",
       " 0.13422473139144159,\n",
       " 0.20133761263896291,\n",
       " 0.26845099883746937,\n",
       " 0.33556499630856429,\n",
       " 0.40267969478918353,\n",
       " 0.46979516175573532,\n",
       " 0.53691143471065816,\n",
       " 0.60402851057635543,\n",
       " 0.67114633099307808,\n",
       " 0.73826476183178091,\n",
       " 0.80538356455841631,\n",
       " 0.87250235615231331,\n",
       " 0.93962055299378155,\n",
       " 1.0067372923690894,\n",
       " 1.0738513228287054,\n",
       " 1.1409608513616885,\n",
       " 1.2080633309399635,\n",
       " 1.2751551660969171,\n",
       " 1.3422313064183855,\n",
       " 1.4092846876575038,\n",
       " 1.4763054671157287,\n",
       " 1.5432799834640289,\n",
       " 1.610189350967973,\n",
       " 1.6770075741704413,\n",
       " 1.7436990422941652,\n",
       " 1.8102152351748504,\n",
       " 1.8764904490078738,\n",
       " 1.9424363389185468,\n",
       " 2.0079350902935578,\n",
       " 2.0728310937642034,\n",
       " 2.1369211416631013,\n",
       " 2.1999434299320857,\n",
       " 2.2615660912411921,\n",
       " 2.3213766546045393,\n",
       " 2.378874752944546,\n",
       " 2.4334715442731412,\n",
       " 2.4845004966509512,\n",
       " 2.5312450002622922,\n",
       " 2.572987981359065,\n",
       " 2.6090862626145426,\n",
       " 2.6390667504883054,\n",
       " 2.6627321788901526,\n",
       " 2.6802524659858524,\n",
       " 2.6922081998860974,\n",
       " 2.6995530147755051,\n",
       " 2.7034795813060932,\n",
       " 2.7052108731958624,\n",
       " 2.7057809721473491,\n",
       " 2.7058900000000001,\n",
       " 2.7058155624103004,\n",
       " 2.7054189326020315,\n",
       " 2.7041944590311782,\n",
       " 2.7013752823062926,\n",
       " 2.6960280869625963,\n",
       " 2.6872114943164904,\n",
       " 2.6741378347449456,\n",
       " 2.6562872102402166,\n",
       " 2.6334516127659047,\n",
       " 2.6057151581661619,\n",
       " 2.5733925956043406,\n",
       " 2.5369511245691334,\n",
       " 2.4969350442732292,\n",
       " 2.4539044865379256,\n",
       " 2.4083921711018896,\n",
       " 2.3608772629026302,\n",
       " 2.3117729880631943,\n",
       " 2.2614240075731566,\n",
       " 2.210109898154728,\n",
       " 2.1580518633626053,\n",
       " 2.1054206332089178,\n",
       " 2.052344228776191,\n",
       " 1.9989148092563158,\n",
       " 1.9451941864952722,\n",
       " 1.8912178176313428,\n",
       " 1.8369972077672969,\n",
       " 1.7825207072456692,\n",
       " 1.7277527022980779,\n",
       " 1.6726311997659145,\n",
       " 1.6170638208641845,\n",
       " 1.5609222717539548,\n",
       " 1.5040354803384679,\n",
       " 1.4461818146912151,\n",
       " 1.3870811669058352,\n",
       " 1.3263882281835819,\n",
       " 1.2636890005147923,\n",
       " 1.1985034271306021,\n",
       " 1.1302977989143188,\n",
       " 1.0585109451296795,\n",
       " 0.98259755787490166,\n",
       " 0.90208957238031739,\n",
       " 0.81667165689166576,\n",
       " 0.72625954020089867,\n",
       " 0.63106161585260834,\n",
       " 0.53159874466215029,\n",
       " 0.42866005457263101,\n",
       " 0.32318866690836162,\n",
       " 0.21611962466925452,\n",
       " 0.10822120656998128,\n",
       " 0]"
      ]
     },
     "execution_count": null,
     "metadata": {},
     "output_type": "execute_result"
    }
   ],
   "source": [
    "ypos"
   ]
  },
  {
   "cell_type": "code",
   "execution_count": null,
   "metadata": {},
   "outputs": [
    {
     "data": {
      "text/plain": [
       "253"
      ]
     },
     "execution_count": null,
     "metadata": {},
     "output_type": "execute_result"
    }
   ],
   "source": [
    "min(range(len(xpos)), key=lambda i: abs(xpos[i]-11.5))"
   ]
  },
  {
   "cell_type": "code",
   "execution_count": null,
   "metadata": {},
   "outputs": [
    {
     "data": {
      "text/plain": [
       "[11.415314500000001, 11.534059875000001, 11.65280525]"
      ]
     },
     "execution_count": null,
     "metadata": {},
     "output_type": "execute_result"
    }
   ],
   "source": [
    "xpos[252:255]"
   ]
  },
  {
   "cell_type": "code",
   "execution_count": null,
   "metadata": {},
   "outputs": [],
   "source": []
  }
 ],
 "metadata": {},
 "nbformat": 4,
 "nbformat_minor": 2
}
