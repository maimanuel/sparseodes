{
 "cells": [
  {
   "cell_type": "code",
   "execution_count": null,
   "metadata": {},
   "outputs": [
    {
     "name": "stdout",
     "output_type": "stream",
     "text": [
      "Populating the interactive namespace from numpy and matplotlib\n"
     ]
    }
   ],
   "source": [
    "import pylab as plb\n",
    "%pylab inline\n",
    "import numpy as np\n",
    "import copy as cp\n",
    "\n",
    "import matplotlib.pyplot as plt \n",
    "#from ode_rats import rats\n",
    "from scipy.integrate import odeint"
   ]
  },
  {
   "cell_type": "code",
   "execution_count": null,
   "metadata": {},
   "outputs": [],
   "source": [
    "def der_rats(y,t):\n",
    "    return 0.01*y*(1 + np.sin(2.0*math.pi/365.0*t))"
   ]
  },
  {
   "cell_type": "code",
   "execution_count": null,
   "metadata": {},
   "outputs": [
    {
     "data": {
      "image/png": "[encoded data removed]",
      "text/plain": [
       "<matplotlib.figure.Figure at 0x10ac92128>"
      ]
     },
     "metadata": {},
     "output_type": "display_data"
    }
   ],
   "source": [
    "# Initial conditions\n",
    "y0 = 2.0\n",
    "# Time gride for integrat/ion\n",
    "tt = np.linspace(0, 364, 365)\n",
    "# Solve the ODE\n",
    "yy = odeint(der_rats, y0, tt)\n",
    "plt.figure(1)\n",
    "plt.plot(tt,yy, '.' )\n",
    "plt.xlabel( \"Time [days]\" )\n",
    "plt.ylabel( \"Rats [rats]\" )\n",
    "plt.title (\"ODE Solution\")\n",
    "plt.show()"
   ]
  },
  {
   "cell_type": "code",
   "execution_count": null,
   "metadata": {},
   "outputs": [
    {
     "data": {
      "image/png": "[encoded data removed]",
      "text/plain": [
       "<matplotlib.figure.Figure at 0x10aab3da0>"
      ]
     },
     "metadata": {},
     "output_type": "display_data"
    }
   ],
   "source": [
    "from scipy.integrate import ode # Initial conditions\n",
    "y0 = 2.0\n",
    "# Time gride for integration\n",
    "t0 = 0.0\n",
    "tF = 364\n",
    "num_steps = 365\n",
    "tt = np.linspace(t0, tF, num_steps)\n",
    "# Setup list to hold solution\n",
    "yy = []\n",
    "yy.append(y0)\n",
    "# Setup the solver\n",
    "solver = ode(der_rats)\n",
    "solver.set_integrator('dopri5') # Use Runge−Kutta 4/5 algorithm \n",
    "solver.set_initial_value(y0,t0) # Initial conditions: time and value\n",
    "# Integrate\n",
    "for t in tt[1:]:\n",
    "    yy.append(solver.integrate(t))\n",
    "    if not solver.successful():\n",
    "        print('WARNING:Itegration not successful!')\n",
    "plt.figure (1)\n",
    "plt.plot(tt,yy,\".\")\n",
    "plt.xlabel(\"Time [days]\")\n",
    "plt.ylabel(\"Rats [rats]\")\n",
    "plt.title (\"ODE Solution\")\n",
    "plt.show()"
   ]
  },
  {
   "cell_type": "markdown",
   "metadata": {},
   "source": [
    "# Test 3D reconstruction"
   ]
  },
  {
   "cell_type": "markdown",
   "metadata": {},
   "source": [
    "[TOC]"
   ]
  },
  {
   "cell_type": "code",
   "execution_count": null,
   "metadata": {},
   "outputs": [],
   "source": [
    "#3D Lorenz\n",
    "def Lder(x,t,p):\n",
    "    der0 = p['s']*(x[1] - x[0])\n",
    "    der1 = x[0]*(p['r']-x[2]) - x[1]\n",
    "    der2 = x[0]*x[1] - p['b']*x[2]\n",
    "    return [der0,der1,der2]\n",
    "\n",
    "Lpar= dict(s= 10., b =8./3, r = 28)\n",
    "\n",
    "#random variation of parameters\n",
    "def randpar(par,var):\n",
    "    '''This function adds gaussian noise to parameters stored in a dictionary. \n",
    "    var is the std of the gaussian distribution (1 = 100% of the not noisy value).'''\n",
    "    flag = 0\n",
    "    while flag == 0:\n",
    "        temp = cp.deepcopy(par)\n",
    "        for key in par.keys():\n",
    "            temp[key]=par[key]*(1+var*plb.randn())\n",
    "            #if temp[key] < 0:\n",
    "            #    flag = 0\n",
    "            #    break\n",
    "            #else:\n",
    "                #flag =1\n",
    "            if temp[key] < 0:\n",
    "                temp[key] = 0\n",
    "        flag = 1            \n",
    "    return temp  "
   ]
  },
  {
   "cell_type": "code",
   "execution_count": null,
   "metadata": {},
   "outputs": [],
   "source": [
    "# for fixed Delta t solve 300 trajectories\n",
    "def traj_solve(N,dt,mod,mod_par,var):\n",
    "    t0 = 0\n",
    "    tend = 1\n",
    "    Nt = (tend-t0)/float(dt)\n",
    "    time = np.linspace(t0,tend,Nt)\n",
    "    \n",
    "    traj = np.full((N,len(time),3),-3.)\n",
    "    for i in range(N):\n",
    "        # add noise to the position of the fixed point\n",
    "        rlvpar = randpar(mod_par,var)\n",
    "        # sample randomly from both basins of attraction\n",
    "        yinit = (plb.rand(3)-[0.5,0.5,0])*[40,60,50]\n",
    "        traj[i,:,:] = odeint(mod,yinit,time,args = (rlvpar,))\n",
    "    return traj,time    \n",
    "\n",
    "# for fixed Delta t solve \n",
    "def traj_solve_mod(N,dt,tend,mod,mod_par,var):\n",
    "    t0 = 0\n",
    "    Nt = (tend-t0)/float(dt)\n",
    "    time = np.linspace(t0,tend,Nt)\n",
    "    \n",
    "    traj = np.full((N,len(time),3),-3.)\n",
    "    for i in range(N):\n",
    "        # add noise to the position of the fixed point\n",
    "        rlvpar = randpar(mod_par,var)\n",
    "        # sample randomly from both basins of attraction\n",
    "        yinit = (plb.rand(3)-[0.5,0.5,0])*[40,60,50]\n",
    "        traj[i,:,:] = odeint(mod,yinit,time,args = (rlvpar,))\n",
    "    return traj,time "
   ]
  },
  {
   "cell_type": "code",
   "execution_count": null,
   "metadata": {},
   "outputs": [],
   "source": [
    "#convert discrete index to x1,x2 position in the model\n",
    "\n",
    "#continuous scaling\n",
    "#0 -> -21\n",
    "#31 -> 21\n",
    "def ind_to_x(i):\n",
    "    return i*42./31. -21\n",
    "#0 -> -29\n",
    "#31 -> 29\n",
    "def ind_to_y(i):\n",
    "    return i*58/31. -29\n",
    "\n",
    "#0 -> 0\n",
    "#31 -> 30\n",
    "def ind_to_z(i):\n",
    "    return i*52/31. -2.\n",
    "\n"
   ]
  },
  {
   "cell_type": "code",
   "execution_count": null,
   "metadata": {},
   "outputs": [],
   "source": [
    "# convert x position to discrete index\n",
    "\n",
    "#-21 -> 0\n",
    "#21 -> 31\n",
    "def x_to_ind(x):\n",
    "    ind = x*31./42. +31./2.\n",
    "    return int(round(ind)) \n",
    "#-29 -> 0\n",
    "#29 -> 31\n",
    "def y_to_ind(x):\n",
    "    ind = x*31./58. +31./2.\n",
    "    return int(round(ind)) \n",
    "#0 -> 0\n",
    "#30 -> 31\n",
    "def z_to_ind(x):\n",
    "    ind = x*31./52.+31./26.\n",
    "    return int(round(ind))"
   ]
  },
  {
   "cell_type": "code",
   "execution_count": null,
   "metadata": {},
   "outputs": [],
   "source": [
    "recfile = np.load(\"3drec_b.npz\")\n",
    "rfile = np.load(\"3dmeas_b.npz\")\n",
    "Rec0 = recfile['arr_0']\n",
    "Rec1 = recfile['arr_1']\n",
    "Rec2 = recfile['arr_2']\n",
    "FM_0 = rfile['arr_0']\n",
    "FM_1 = rfile['arr_1']\n",
    "FM_2 = rfile['arr_2']"
   ]
  },
  {
   "cell_type": "code",
   "execution_count": null,
   "metadata": {},
   "outputs": [
    {
     "data": {
      "text/plain": [
       "(32, 32, 32)"
      ]
     },
     "execution_count": null,
     "metadata": {},
     "output_type": "execute_result"
    }
   ],
   "source": [
    "Rec0.shape"
   ]
  },
  {
   "cell_type": "code",
   "execution_count": null,
   "metadata": {},
   "outputs": [],
   "source": [
    "#Ref0 = reshape(f_ref[0],(32,32,32),order= \"C\")\n",
    "#Ref1 = reshape(f_ref[1],(32,32,32),order= \"C\")\n",
    "#Ref2 = reshape(f_ref[2],(32,32,32),order= \"C\")\n",
    "FM0 = reshape(FM_0,(32,32,32),order='C')\n",
    "FM1 = reshape(FM_1,(32,32,32),order='C')\n",
    "FM2 = reshape(FM_2,(32,32,32),order='C')"
   ]
  },
  {
   "cell_type": "code",
   "execution_count": null,
   "metadata": {},
   "outputs": [],
   "source": [
    "f_r = np.full((3,32,32,32),0.)\n",
    "for i in range(32):\n",
    "    for j in range(32):\n",
    "        for k in range(32):\n",
    "            f_r[0,i,j,k] = Lder([ind_to_x(i),ind_to_y(j),ind_to_z(k)],1,Lpar)[0]\n",
    "            f_r[1,i,j,k] = Lder([ind_to_x(i),ind_to_y(j),ind_to_z(k)],1,Lpar)[1]\n",
    "            f_r[2,i,j,k] = Lder([ind_to_x(i),ind_to_y(j),ind_to_z(k)],1,Lpar)[2]"
   ]
  },
  {
   "cell_type": "code",
   "execution_count": null,
   "metadata": {},
   "outputs": [],
   "source": [
    "#test ODE\n",
    "def Lrecder(x,t):\n",
    "    i = x_to_ind(x[0])\n",
    "    j = y_to_ind(x[1])\n",
    "    k = z_to_ind(x[2])\n",
    "    if i >= 0 and i < 32 and j >= 0 and j < 32 and k >= 0 and k < 32:\n",
    "        der0 = Rec0[i,j,k]\n",
    "    else:\n",
    "        print('here')\n",
    "        der0 = 0.\n",
    "    if i >= 0 and i < 32 and j >= 0 and j < 32 and k >= 0 and k < 32:   \n",
    "        der1 = Rec1[i,j,k]\n",
    "    else:\n",
    "        print('here')\n",
    "        der1 = 0.\n",
    "    if i >= 0 and i < 32 and j >= 0 and j < 32 and k >= 0 and k < 32:   \n",
    "        der2 = Rec2[i,j,k]\n",
    "    else:\n",
    "        print('here')\n",
    "        der2 = 0.\n",
    "    return array([der0,der1,der2])\n",
    "\n",
    "def Lrecder_N(t,x):\n",
    "    i = x_to_ind(x[0])\n",
    "    j = y_to_ind(x[1])\n",
    "    k = z_to_ind(x[2])\n",
    "    if i >= 0 and i < 32 and j >= 0 and j < 32 and k >= 0 and k < 32:\n",
    "        der0 = Rec0[i,j,k]\n",
    "    else:\n",
    "        print('here')\n",
    "        der0 = 0.\n",
    "    if i >= 0 and i < 32 and j >= 0 and j < 32 and k >= 0 and k < 32:   \n",
    "        der1 = Rec1[i,j,k]\n",
    "    else:\n",
    "        print('here')\n",
    "        der1 = 0.\n",
    "    if i >= 0 and i < 32 and j >= 0 and j < 32 and k >= 0 and k < 32:   \n",
    "        der2 = Rec2[i,j,k]\n",
    "    else:\n",
    "        print('here')\n",
    "        der2 = 0.\n",
    "    return array([der0,der1,der2])\n",
    "\n",
    "def Lmeasder(x,t):\n",
    "    i = x_to_ind(x[0])\n",
    "    j = y_to_ind(x[1])\n",
    "    k = z_to_ind(x[2])    \n",
    "    if i >= 0 and i < 32:\n",
    "        der0 = FM0[i,j,k]\n",
    "    else:\n",
    "        der0 = 0.\n",
    "    if j >= 0 and j < 32:   \n",
    "        der1 = FM1[i,j,k]\n",
    "    else:\n",
    "        der1 = 0.\n",
    "    if k >= 0 and k < 32:   \n",
    "        der2 = FM2[i,j,k]\n",
    "    else:\n",
    "        der2 = 0.\n",
    "    return array([der0,der1,der2])\n",
    "\n",
    "def Lrefder(x,t):\n",
    "    i = x_to_ind(x[0])\n",
    "    j = y_to_ind(x[1])\n",
    "    k = z_to_ind(x[2])    \n",
    "    \n",
    "    if i >= 0 and i < 32 and j >= 0 and j < 32 and k >= 0 and k < 32:\n",
    "        der0 = f_r[0,i,j,k]\n",
    "    else:\n",
    "        der0 = 0.\n",
    "    if i >= 0 and i < 32 and j >= 0 and j < 32 and k >= 0 and k < 32:   \n",
    "        der1 = f_r[1,i,j,k]\n",
    "    else:\n",
    "        der1 = 0.\n",
    "    if i >= 0 and i < 32 and j >= 0 and j < 32 and k >= 0 and k < 32:   \n",
    "        der2 = f_r[2,i,j,k]\n",
    "    else:\n",
    "        der2 = 0.    \n",
    "    return array([der0,der1,der2])\n",
    "\n",
    "def Lrefder_N(t,x):\n",
    "    i = x_to_ind(x[0])\n",
    "    j = y_to_ind(x[1])\n",
    "    k = z_to_ind(x[2])    \n",
    "    \n",
    "    if i >= 0 and i < 32 and j >= 0 and j < 32 and k >= 0 and k < 32:\n",
    "        der0 = f_r[0,i,j,k]\n",
    "    else:\n",
    "        der0 = 0.\n",
    "    if i >= 0 and i < 32 and j >= 0 and j < 32 and k >= 0 and k < 32:   \n",
    "        der1 = f_r[1,i,j,k]\n",
    "    else:\n",
    "        der1 = 0.\n",
    "    if i >= 0 and i < 32 and j >= 0 and j < 32 and k >= 0 and k < 32:   \n",
    "        der2 = f_r[2,i,j,k]\n",
    "    else:\n",
    "        der2 = 0.    \n",
    "    return array([der0,der1,der2])"
   ]
  },
  {
   "cell_type": "code",
   "execution_count": null,
   "metadata": {},
   "outputs": [
    {
     "name": "stdout",
     "output_type": "stream",
     "text": [
      "99\n"
     ]
    }
   ],
   "source": [
    "# find trajectories that stay in between (0,2)x(0,2)\n",
    "traj,time = traj_solve_mod(1000,0.01,1.,Lder,Lpar,0.0)\n",
    "\n",
    "l = []\n",
    "for i in range(1000):\n",
    "    ind00 = x_to_ind(np.min(traj[i,:,0]))\n",
    "    ind01 = x_to_ind(np.max(traj[i,:,0]))\n",
    "    ind10 = y_to_ind(np.min(traj[i,:,1]))\n",
    "    ind11 = y_to_ind(np.max(traj[i,:,1]))\n",
    "    ind20 = z_to_ind(np.min(traj[i,:,2]))\n",
    "    ind21 = z_to_ind(np.max(traj[i,:,2]))\n",
    "    if ind00 > 5 and ind01 < 25 and ind10 > 5 and ind11 <25 and ind20 < 25 and ind21 > 5 :\n",
    "        l.append(i)\n",
    "\n",
    "print(len(l))    "
   ]
  },
  {
   "cell_type": "code",
   "execution_count": null,
   "metadata": {},
   "outputs": [
    {
     "name": "stdout",
     "output_type": "stream",
     "text": [
      "0\n",
      "1"
     ]
    },
    {
     "name": "stderr",
     "output_type": "stream",
     "text": [
      "//anaconda/envs/py3/lib/python3.4/site-packages/scipy/integrate/odepack.py:156: ODEintWarning: Excess work done on this call (perhaps wrong Dfun type). Run with full_output = 1 to get quantitative information.\n",
      "  warnings.warn(warning_msg, ODEintWarning)\n",
      "//anaconda/envs/py3/lib/python3.4/site-packages/scipy/integrate/odepack.py:159: ODEintWarning: Integration successful.\n",
      "  warnings.warn(warning_msg, ODEintWarning)\n"
     ]
    },
    {
     "name": "stdout",
     "output_type": "stream",
     "text": [
      "\n",
      "2\n",
      "3\n",
      "4\n",
      "5\n",
      "6\n",
      "7\n",
      "8\n",
      "9\n"
     ]
    }
   ],
   "source": [
    "# solve in original and recontructed function\n",
    "t0 = 0\n",
    "tend = 1.\n",
    "dt = 0.01\n",
    "Nt = (tend-t0)/float(dt)\n",
    "time = np.linspace(t0,tend,Nt)\n",
    "n = 10\n",
    "trajor = np.full((n,len(time),3),np.nan)\n",
    "trajrec = np.full((n,len(time),3),np.nan)\n",
    "trajref = np.full((n,len(time),3),np.nan)\n",
    "var = 0.\n",
    "\n",
    "for i in range(10):\n",
    "    print(i)\n",
    "    yinit = traj[l[i],0,:]\n",
    "    #trajor[i,:,:] = odeint(Lder,yinit,time,args = (Lpar,), rtol=1e-10, atol=1e-12)\n",
    "    trajrec[i,:,:] = odeint(Lrecder,yinit,time,printmessg=True, rtol=1e-10, atol=1e-12)\n",
    "    trajref[i,:,:] = odeint(Lrefder,yinit,time, rtol=1e-10, atol=1e-12)"
   ]
  },
  {
   "cell_type": "code",
   "execution_count": null,
   "metadata": {},
   "outputs": [
    {
     "name": "stderr",
     "output_type": "stream",
     "text": [
      "//anaconda/envs/py3/lib/python3.4/site-packages/matplotlib/axes/_axes.py:475: UserWarning: No labelled objects found. Use label='...' kwarg on individual plots.\n",
      "  warnings.warn(\"No labelled objects found. \"\n",
      "//anaconda/envs/py3/lib/python3.4/site-packages/matplotlib/collections.py:590: FutureWarning: elementwise comparison failed; returning scalar instead, but in the future will perform elementwise comparison\n",
      "  if self._edgecolors == str('face'):\n"
     ]
    },
    {
     "data": {
      "image/png": "[encoded data removed]",
      "text/plain": [
       "<matplotlib.figure.Figure at 0x10ccea400>"
      ]
     },
     "metadata": {},
     "output_type": "display_data"
    }
   ],
   "source": [
    "from mpl_toolkits.mplot3d import Axes3D\n",
    "fig = plt.figure()\n",
    "ax = fig.gca(projection='3d')\n",
    "for i in [7,8]:\n",
    "    ax.plot(trajrec[i,:,0], trajrec[i,:,1], trajrec[i,:,2],'')\n",
    "    ax.plot(trajref[i,:,0], trajref[i,:,1], trajref[i,:,2],'--')\n",
    "    ax.plot([trajrec[i,0,0]], [trajrec[i,0,1]], [trajrec[i,0,2]],'o')\n",
    "#fixed point 1    \n",
    "#ax.plot([sqrt(Lpar['b']*(Lpar['r']-1))],[sqrt(Lpar['b']*(Lpar['r']-1))],[Lpar['r']-1],'o')    \n",
    "#fixed point 2\n",
    "#ax.plot([-sqrt(Lpar['b']*(Lpar['r']-1))],[-sqrt(Lpar['b']*(Lpar['r']-1))],[Lpar['r']-1],'o')    \n",
    "#fixed point 3\n",
    "#ax.plot([0],[0],[0],'o')   \n",
    "#ax.set_xlim3d(-21, 21)\n",
    "#ax.set_ylim3d(-29,29)\n",
    "#ax.set_zlim3d(-2,50)\n",
    "ax.legend()\n",
    "plt.show()"
   ]
  },
  {
   "cell_type": "code",
   "execution_count": null,
   "metadata": {},
   "outputs": [
    {
     "data": {
      "text/plain": [
       "(-50, 50)"
      ]
     },
     "execution_count": null,
     "metadata": {},
     "output_type": "execute_result"
    },
    {
     "data": {
      "image/png": "[encoded data removed]",
      "text/plain": [
       "<matplotlib.figure.Figure at 0x10c55c9e8>"
      ]
     },
     "metadata": {},
     "output_type": "display_data"
    }
   ],
   "source": [
    "plot(trajrec[9,:,0])\n",
    "ylim(-50,50)"
   ]
  },
  {
   "cell_type": "code",
   "execution_count": null,
   "metadata": {},
   "outputs": [
    {
     "data": {
      "text/plain": [
       "119"
      ]
     },
     "execution_count": null,
     "metadata": {},
     "output_type": "execute_result"
    }
   ],
   "source": [
    "l[9]"
   ]
  },
  {
   "cell_type": "code",
   "execution_count": null,
   "metadata": {},
   "outputs": [
    {
     "data": {
      "text/plain": [
       "array([ -5.28175523,  14.38157855,  39.79764703])"
      ]
     },
     "execution_count": null,
     "metadata": {},
     "output_type": "execute_result"
    }
   ],
   "source": []
  },
  {
   "cell_type": "code",
   "execution_count": null,
   "metadata": {},
   "outputs": [
    {
     "name": "stderr",
     "output_type": "stream",
     "text": [
      "//anaconda/envs/py3/lib/python3.4/site-packages/scipy/integrate/_ode.py:1018: UserWarning: dopri5: larger nmax is needed\n",
      "  self.messages.get(idid, 'Unexpected idid=%s' % idid))\n"
     ]
    }
   ],
   "source": [
    "y0 = traj[l[3],0,:]\n",
    "\n",
    "# Time gride for integration\n",
    "t0 = 0.0\n",
    "tF = 5.0\n",
    "num_steps = 1000\n",
    "tt = np.linspace(t0, tF, num_steps)\n",
    "# Setup list to hold solution\n",
    "yy_rec = []\n",
    "yy_rec.append(y0)\n",
    "yy_ref = []\n",
    "yy_ref.append(y0)\n",
    "# Setup the solver\n",
    "solver_rec = ode(Lrecder_N)\n",
    "solver_rec.set_integrator('dopri5') # Use Runge−Kutta 4/5 algorithm \n",
    "solver_rec.set_initial_value(y0,t0) # Initial conditions: time and value\n",
    "\n",
    "solver_ref = ode(Lrefder_N)\n",
    "solver_ref.set_integrator('dopri5') # Use Runge−Kutta 4/5 algorithm \n",
    "solver_ref.set_initial_value(y0,t0) # Initial conditions: time and value\n",
    "# Integrate\n",
    "for t in tt[1:]:\n",
    "    yy_rec.append(solver_rec.integrate(t))\n",
    "    if not solver_rec.successful():\n",
    "        print('WARNING:Itegration rec not successful!')\n",
    "    yy_ref.append(solver_ref.integrate(t))\n",
    "    if not solver_rec.successful():\n",
    "        print('WARNING:Itegration not successful!')    \n",
    "#plt.figure (1)\n",
    "#plt.plot(tt,yy,\".\")\n",
    "#plt.plot(time[:20],trajrec[9,:20,0])\n",
    "#plt.xlabel(\"Time [days]\")\n",
    "#plt.ylabel(\"Rats [rats]\")\n",
    "#plt.title (\"ODE Solution\")\n",
    "#plt.show()"
   ]
  },
  {
   "cell_type": "code",
   "execution_count": null,
   "metadata": {},
   "outputs": [],
   "source": [
    "tr_rec = np.full((len(yy_rec),3),0.)\n",
    "tr_ref = np.full((len(yy_ref),3),0.)\n",
    "for i in range(len(yy_rec)):\n",
    "    tr_rec[i,:] = yy_rec[i]\n",
    "    tr_ref[i,:] = yy_ref[i]    "
   ]
  },
  {
   "cell_type": "code",
   "execution_count": null,
   "metadata": {},
   "outputs": [
    {
     "name": "stderr",
     "output_type": "stream",
     "text": [
      "//anaconda/envs/py3/lib/python3.4/site-packages/matplotlib/axes/_axes.py:475: UserWarning: No labelled objects found. Use label='...' kwarg on individual plots.\n",
      "  warnings.warn(\"No labelled objects found. \"\n",
      "//anaconda/envs/py3/lib/python3.4/site-packages/matplotlib/collections.py:590: FutureWarning: elementwise comparison failed; returning scalar instead, but in the future will perform elementwise comparison\n",
      "  if self._edgecolors == str('face'):\n"
     ]
    },
    {
     "data": {
      "image/png": "[encoded data removed]",
      "text/plain": [
       "<matplotlib.figure.Figure at 0x10aaa00b8>"
      ]
     },
     "metadata": {},
     "output_type": "display_data"
    }
   ],
   "source": [
    "from mpl_toolkits.mplot3d import Axes3D\n",
    "fig = plt.figure()\n",
    "ax = fig.gca(projection='3d')\n",
    "for i in [0]:\n",
    "    ax.plot(tr_rec[:,0], tr_rec[:,1], tr_rec[:,2])\n",
    "    ax.plot(tr_ref[:,0], tr_ref[:,1], tr_ref[:,2],'--')\n",
    "    ax.plot([tr_rec[0,0]], [tr_rec[0,1]], [tr_rec[0,2]],'o')\n",
    "#fixed point 1    \n",
    "#ax.plot([sqrt(Lpar['b']*(Lpar['r']-1))],[sqrt(Lpar['b']*(Lpar['r']-1))],[Lpar['r']-1],'o')    \n",
    "#fixed point 2\n",
    "#ax.plot([-sqrt(Lpar['b']*(Lpar['r']-1))],[-sqrt(Lpar['b']*(Lpar['r']-1))],[Lpar['r']-1],'o')    \n",
    "#fixed point 3\n",
    "#ax.plot([0],[0],[0],'o')   \n",
    "#ax.set_xlim3d(-21, 21)\n",
    "#ax.set_ylim3d(-29,29)\n",
    "#ax.set_zlim3d(-2,50)\n",
    "ax.legend()\n",
    "plt.show()"
   ]
  }
 ],
 "metadata": {
  "kernelspec": {
   "display_name": "Python 3",
   "language": "python",
   "name": "python3"
  }
 },
 "nbformat": 4,
 "nbformat_minor": 0
}
